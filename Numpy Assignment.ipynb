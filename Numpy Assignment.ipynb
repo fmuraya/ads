{
 "cells": [
  {
   "cell_type": "code",
   "execution_count": 1,
   "id": "ef52c3eb-0eb7-45e2-a9c1-9a9ebef4a1ef",
   "metadata": {},
   "outputs": [],
   "source": [
    "import numpy as np\n"
   ]
  },
  {
   "cell_type": "code",
   "execution_count": 6,
   "id": "55e41e80-c69e-48e7-83c9-0683747778c2",
   "metadata": {},
   "outputs": [
    {
     "name": "stdout",
     "output_type": "stream",
     "text": [
      "Mean is  166.7\n",
      "Median is  166.5\n",
      "Standard Deviation is  7.5372408744845085\n"
     ]
    }
   ],
   "source": [
    "heights = np.array([160, 155, 172, 165, 180, 158, 175, 163, 171, 168])\n",
    "print (\"Mean is \",np.mean(heights))\n",
    "print (\"Median is \",np.median(heights))\n",
    "print (\"Standard Deviation is \",np.std(heights))"
   ]
  },
  {
   "cell_type": "code",
   "execution_count": 14,
   "id": "314f266b-5b4f-4637-96ec-d56473b64cec",
   "metadata": {},
   "outputs": [
    {
     "name": "stdout",
     "output_type": "stream",
     "text": [
      "Difference between tallest and shortest is: 25\n"
     ]
    }
   ],
   "source": [
    "tallest = heights.max()\n",
    "shortest = heights.min()\n",
    "diff = tallest - shortest\n",
    "print(\"Difference between tallest and shortest is:\",diff)"
   ]
  },
  {
   "cell_type": "code",
   "execution_count": 9,
   "id": "157b2a07-f33e-4c3c-b055-647dcbc87c7b",
   "metadata": {},
   "outputs": [
    {
     "name": "stdout",
     "output_type": "stream",
     "text": [
      "Argmax: 180\n",
      "Argmin: 155\n"
     ]
    }
   ],
   "source": [
    "print(\"Argmax:\", heights[np.argmax(heights)]) \n",
    "print(\"Argmin:\", heights[np.argmin(heights)])"
   ]
  },
  {
   "cell_type": "code",
   "execution_count": 17,
   "id": "8ffb6ac1-ad06-49d8-b51d-17380510c16d",
   "metadata": {},
   "outputs": [
    {
     "name": "stdout",
     "output_type": "stream",
     "text": [
      "Sample without replacement: [168 160 171 155 165]\n"
     ]
    }
   ],
   "source": [
    "sample_no_replacement = np.random.choice(heights, 5, replace=False)\n",
    "print(\"Sample without replacement:\", sample_no_replacement)"
   ]
  },
  {
   "cell_type": "code",
   "execution_count": null,
   "id": "02082377-86cb-4fc5-ad80-bca93c099160",
   "metadata": {},
   "outputs": [],
   "source": []
  },
  {
   "cell_type": "code",
   "execution_count": null,
   "id": "6b9a7e9b-6069-454d-8d59-08283b1901d2",
   "metadata": {},
   "outputs": [],
   "source": []
  }
 ],
 "metadata": {
  "kernelspec": {
   "display_name": "Python 3 (ipykernel)",
   "language": "python",
   "name": "python3"
  },
  "language_info": {
   "codemirror_mode": {
    "name": "ipython",
    "version": 3
   },
   "file_extension": ".py",
   "mimetype": "text/x-python",
   "name": "python",
   "nbconvert_exporter": "python",
   "pygments_lexer": "ipython3",
   "version": "3.11.7"
  }
 },
 "nbformat": 4,
 "nbformat_minor": 5
}
